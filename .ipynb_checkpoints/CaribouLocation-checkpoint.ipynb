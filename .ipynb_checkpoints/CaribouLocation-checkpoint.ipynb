{
 "cells": [
  {
   "cell_type": "code",
   "execution_count": 7,
   "metadata": {},
   "outputs": [],
   "source": [
    "import pandas as pd\n",
    "import math\n",
    "import numpy as np\n",
    "import matplotlib.pyplot as plt\n",
    "%matplotlib inline"
   ]
  },
  {
   "cell_type": "code",
   "execution_count": 8,
   "metadata": {},
   "outputs": [],
   "source": [
    "df = pd.read_csv('locations.csv')"
   ]
  },
  {
   "cell_type": "code",
   "execution_count": 9,
   "metadata": {},
   "outputs": [],
   "source": [
    "df['lat_rads'] = df['latitude'].apply(lambda x: x*(math.pi)/180)\n",
    "df['long_rads'] = df['longitude'].apply(lambda x: x*(math.pi)/180)\n",
    "df['timestamp'] = pd.to_datetime(df.timestamp)"
   ]
  },
  {
   "cell_type": "code",
   "execution_count": 10,
   "metadata": {},
   "outputs": [],
   "source": [
    "def haversine(lat1, lon1, lat2, lon2, to_radians=False, earth_radius=6367):\n",
    "    \"\"\"\n",
    "    slightly modified version: of http://stackoverflow.com/a/29546836/2901002\n",
    "\n",
    "    Calculate the great circle distance between two points\n",
    "    on the earth (specified in decimal degrees or in radians)\n",
    "\n",
    "    All (lat, lon) coordinates must have numeric dtypes and be of equal length.\n",
    "\n",
    "    \"\"\"\n",
    "    if to_radians:\n",
    "        lat1, lon1, lat2, lon2 = np.radians([lat1, lon1, lat2, lon2])\n",
    "\n",
    "    a = np.sin((lat2-lat1)/2.0)**2 + \\\n",
    "        np.cos(lat1) * np.cos(lat2) * np.sin((lon2-lon1)/2.0)**2\n",
    "\n",
    "    return earth_radius * 2 * np.arcsin(np.sqrt(a))"
   ]
  },
  {
   "cell_type": "code",
   "execution_count": 11,
   "metadata": {},
   "outputs": [],
   "source": [
    "#NaNrow = ['NaN', 'NaN', 'NaN', 'NaN', 'NaN', 'NaN', 'NaN', 'NaN', 'NaN', 'NaN']"
   ]
  },
  {
   "cell_type": "code",
   "execution_count": 12,
   "metadata": {},
   "outputs": [],
   "source": [
    "df['dist'] = \\\n",
    "    haversine(df['lat_rads'].shift(), df['long_rads'].shift(),\n",
    "                 df.loc[1:, 'lat_rads'], df.loc[1:, 'long_rads'])"
   ]
  },
  {
   "cell_type": "code",
   "execution_count": 13,
   "metadata": {},
   "outputs": [
    {
     "data": {
      "text/html": [
       "<div>\n",
       "<style scoped>\n",
       "    .dataframe tbody tr th:only-of-type {\n",
       "        vertical-align: middle;\n",
       "    }\n",
       "\n",
       "    .dataframe tbody tr th {\n",
       "        vertical-align: top;\n",
       "    }\n",
       "\n",
       "    .dataframe thead th {\n",
       "        text-align: right;\n",
       "    }\n",
       "</style>\n",
       "<table border=\"1\" class=\"dataframe\">\n",
       "  <thead>\n",
       "    <tr style=\"text-align: right;\">\n",
       "      <th></th>\n",
       "      <th>event_id</th>\n",
       "      <th>animal_id</th>\n",
       "      <th>study_site</th>\n",
       "      <th>season</th>\n",
       "      <th>timestamp</th>\n",
       "      <th>longitude</th>\n",
       "      <th>latitude</th>\n",
       "      <th>lat_rads</th>\n",
       "      <th>long_rads</th>\n",
       "      <th>dist</th>\n",
       "    </tr>\n",
       "  </thead>\n",
       "  <tbody>\n",
       "    <tr>\n",
       "      <th>0</th>\n",
       "      <td>2259197332</td>\n",
       "      <td>GR_C01</td>\n",
       "      <td>Graham</td>\n",
       "      <td>Winter</td>\n",
       "      <td>2001-02-21 05:00:00+00:00</td>\n",
       "      <td>-122.520049</td>\n",
       "      <td>56.239496</td>\n",
       "      <td>0.981564</td>\n",
       "      <td>-2.138378</td>\n",
       "      <td>NaN</td>\n",
       "    </tr>\n",
       "    <tr>\n",
       "      <th>1</th>\n",
       "      <td>2259197333</td>\n",
       "      <td>GR_C01</td>\n",
       "      <td>Graham</td>\n",
       "      <td>Winter</td>\n",
       "      <td>2001-02-21 09:00:00+00:00</td>\n",
       "      <td>-122.522416</td>\n",
       "      <td>56.239847</td>\n",
       "      <td>0.981571</td>\n",
       "      <td>-2.138420</td>\n",
       "      <td>0.151296</td>\n",
       "    </tr>\n",
       "    <tr>\n",
       "      <th>2</th>\n",
       "      <td>2259197334</td>\n",
       "      <td>GR_C01</td>\n",
       "      <td>Graham</td>\n",
       "      <td>Winter</td>\n",
       "      <td>2001-02-21 13:00:00+00:00</td>\n",
       "      <td>-122.523173</td>\n",
       "      <td>56.240003</td>\n",
       "      <td>0.981573</td>\n",
       "      <td>-2.138433</td>\n",
       "      <td>0.049809</td>\n",
       "    </tr>\n",
       "    <tr>\n",
       "      <th>3</th>\n",
       "      <td>2259197335</td>\n",
       "      <td>GR_C01</td>\n",
       "      <td>Graham</td>\n",
       "      <td>Winter</td>\n",
       "      <td>2001-02-21 17:01:00+00:00</td>\n",
       "      <td>-122.532758</td>\n",
       "      <td>56.231872</td>\n",
       "      <td>0.981431</td>\n",
       "      <td>-2.138600</td>\n",
       "      <td>1.080197</td>\n",
       "    </tr>\n",
       "    <tr>\n",
       "      <th>4</th>\n",
       "      <td>2259197336</td>\n",
       "      <td>GR_C01</td>\n",
       "      <td>Graham</td>\n",
       "      <td>Winter</td>\n",
       "      <td>2001-02-21 21:00:00+00:00</td>\n",
       "      <td>-122.531361</td>\n",
       "      <td>56.234023</td>\n",
       "      <td>0.981469</td>\n",
       "      <td>-2.138576</td>\n",
       "      <td>0.254140</td>\n",
       "    </tr>\n",
       "  </tbody>\n",
       "</table>\n",
       "</div>"
      ],
      "text/plain": [
       "     event_id animal_id study_site  season                 timestamp  \\\n",
       "0  2259197332    GR_C01     Graham  Winter 2001-02-21 05:00:00+00:00   \n",
       "1  2259197333    GR_C01     Graham  Winter 2001-02-21 09:00:00+00:00   \n",
       "2  2259197334    GR_C01     Graham  Winter 2001-02-21 13:00:00+00:00   \n",
       "3  2259197335    GR_C01     Graham  Winter 2001-02-21 17:01:00+00:00   \n",
       "4  2259197336    GR_C01     Graham  Winter 2001-02-21 21:00:00+00:00   \n",
       "\n",
       "    longitude   latitude  lat_rads  long_rads      dist  \n",
       "0 -122.520049  56.239496  0.981564  -2.138378       NaN  \n",
       "1 -122.522416  56.239847  0.981571  -2.138420  0.151296  \n",
       "2 -122.523173  56.240003  0.981573  -2.138433  0.049809  \n",
       "3 -122.532758  56.231872  0.981431  -2.138600  1.080197  \n",
       "4 -122.531361  56.234023  0.981469  -2.138576  0.254140  "
      ]
     },
     "execution_count": 13,
     "metadata": {},
     "output_type": "execute_result"
    }
   ],
   "source": [
    "df.head()"
   ]
  },
  {
   "cell_type": "code",
   "execution_count": null,
   "metadata": {},
   "outputs": [],
   "source": [
    "#Can't work out how to stop the overlap between animal distance data...\n",
    "#Tried inserting an empty NaN row after each animal but didn't work.\n",
    "#Will try again later. Perhaps make a Caribou class..."
   ]
  }
 ],
 "metadata": {
  "kernelspec": {
   "display_name": "Python 3",
   "language": "python",
   "name": "python3"
  },
  "language_info": {
   "codemirror_mode": {
    "name": "ipython",
    "version": 3
   },
   "file_extension": ".py",
   "mimetype": "text/x-python",
   "name": "python",
   "nbconvert_exporter": "python",
   "pygments_lexer": "ipython3",
   "version": "3.7.6"
  }
 },
 "nbformat": 4,
 "nbformat_minor": 4
}
